{
 "cells": [
  {
   "cell_type": "code",
   "execution_count": 1,
   "metadata": {},
   "outputs": [
    {
     "name": "stdout",
     "output_type": "stream",
     "text": [
      "Requirement already satisfied: pandas in c:\\users\\arwa1\\anaconda3\\lib\\site-packages (2.2.2)\n",
      "Requirement already satisfied: numpy>=1.26.0 in c:\\users\\arwa1\\anaconda3\\lib\\site-packages (from pandas) (1.26.4)\n",
      "Requirement already satisfied: python-dateutil>=2.8.2 in c:\\users\\arwa1\\anaconda3\\lib\\site-packages (from pandas) (2.9.0.post0)\n",
      "Requirement already satisfied: pytz>=2020.1 in c:\\users\\arwa1\\anaconda3\\lib\\site-packages (from pandas) (2024.1)\n",
      "Requirement already satisfied: tzdata>=2022.7 in c:\\users\\arwa1\\anaconda3\\lib\\site-packages (from pandas) (2023.3)\n",
      "Requirement already satisfied: six>=1.5 in c:\\users\\arwa1\\anaconda3\\lib\\site-packages (from python-dateutil>=2.8.2->pandas) (1.16.0)\n",
      "Note: you may need to restart the kernel to use updated packages.\n",
      "Collecting textblob\n",
      "  Downloading textblob-0.18.0.post0-py3-none-any.whl.metadata (4.5 kB)\n",
      "Requirement already satisfied: nltk>=3.8 in c:\\users\\arwa1\\anaconda3\\lib\\site-packages (from textblob) (3.8.1)\n",
      "Requirement already satisfied: click in c:\\users\\arwa1\\anaconda3\\lib\\site-packages (from nltk>=3.8->textblob) (8.1.7)\n",
      "Requirement already satisfied: joblib in c:\\users\\arwa1\\anaconda3\\lib\\site-packages (from nltk>=3.8->textblob) (1.4.2)\n",
      "Requirement already satisfied: regex>=2021.8.3 in c:\\users\\arwa1\\anaconda3\\lib\\site-packages (from nltk>=3.8->textblob) (2023.10.3)\n",
      "Requirement already satisfied: tqdm in c:\\users\\arwa1\\anaconda3\\lib\\site-packages (from nltk>=3.8->textblob) (4.66.4)\n",
      "Requirement already satisfied: colorama in c:\\users\\arwa1\\anaconda3\\lib\\site-packages (from click->nltk>=3.8->textblob) (0.4.6)\n",
      "Downloading textblob-0.18.0.post0-py3-none-any.whl (626 kB)\n",
      "   ---------------------------------------- 0.0/626.3 kB ? eta -:--:--\n",
      "   ---------------------------------------- 0.0/626.3 kB ? eta -:--:--\n",
      "   - ------------------------------------- 30.7/626.3 kB 660.6 kB/s eta 0:00:01\n",
      "   --- ----------------------------------- 61.4/626.3 kB 825.8 kB/s eta 0:00:01\n",
      "   ------- -------------------------------- 122.9/626.3 kB 1.0 MB/s eta 0:00:01\n",
      "   ------------------ --------------------- 286.7/626.3 kB 1.6 MB/s eta 0:00:01\n",
      "   ------------------------------ --------- 471.0/626.3 kB 2.1 MB/s eta 0:00:01\n",
      "   ---------------------------------------  624.6/626.3 kB 2.3 MB/s eta 0:00:01\n",
      "   ---------------------------------------- 626.3/626.3 kB 2.2 MB/s eta 0:00:00\n",
      "Installing collected packages: textblob\n",
      "Successfully installed textblob-0.18.0.post0\n",
      "Note: you may need to restart the kernel to use updated packages.\n",
      "Requirement already satisfied: nltk in c:\\users\\arwa1\\anaconda3\\lib\\site-packages (3.8.1)\n",
      "Requirement already satisfied: click in c:\\users\\arwa1\\anaconda3\\lib\\site-packages (from nltk) (8.1.7)\n",
      "Requirement already satisfied: joblib in c:\\users\\arwa1\\anaconda3\\lib\\site-packages (from nltk) (1.4.2)\n",
      "Requirement already satisfied: regex>=2021.8.3 in c:\\users\\arwa1\\anaconda3\\lib\\site-packages (from nltk) (2023.10.3)\n",
      "Requirement already satisfied: tqdm in c:\\users\\arwa1\\anaconda3\\lib\\site-packages (from nltk) (4.66.4)\n",
      "Requirement already satisfied: colorama in c:\\users\\arwa1\\anaconda3\\lib\\site-packages (from click->nltk) (0.4.6)\n",
      "Note: you may need to restart the kernel to use updated packages.\n"
     ]
    }
   ],
   "source": [
    "%pip install pandas\n",
    "%pip install textblob\n",
    "%pip install nltk"
   ]
  },
  {
   "cell_type": "code",
   "execution_count": 2,
   "metadata": {},
   "outputs": [
    {
     "name": "stderr",
     "output_type": "stream",
     "text": [
      "[nltk_data] Downloading package punkt to\n",
      "[nltk_data]     C:\\Users\\arwa1\\AppData\\Roaming\\nltk_data...\n",
      "[nltk_data]   Unzipping tokenizers\\punkt.zip.\n",
      "[nltk_data] Downloading package averaged_perceptron_tagger to\n",
      "[nltk_data]     C:\\Users\\arwa1\\AppData\\Roaming\\nltk_data...\n",
      "[nltk_data]   Unzipping taggers\\averaged_perceptron_tagger.zip.\n",
      "[nltk_data] Downloading package wordnet to\n",
      "[nltk_data]     C:\\Users\\arwa1\\AppData\\Roaming\\nltk_data...\n",
      "[nltk_data] Downloading package brown to\n",
      "[nltk_data]     C:\\Users\\arwa1\\AppData\\Roaming\\nltk_data...\n",
      "[nltk_data]   Unzipping corpora\\brown.zip.\n"
     ]
    },
    {
     "data": {
      "text/plain": [
       "True"
      ]
     },
     "execution_count": 2,
     "metadata": {},
     "output_type": "execute_result"
    }
   ],
   "source": [
    "# Importing necessary libraries\n",
    "import pandas as pd\n",
    "from textblob import TextBlob\n",
    "import nltk\n",
    "\n",
    "# Downloading necessary NLTK corpora\n",
    "nltk.download('punkt')\n",
    "nltk.download('averaged_perceptron_tagger')\n",
    "nltk.download('wordnet')\n",
    "nltk.download('brown')\n"
   ]
  },
  {
   "cell_type": "code",
   "execution_count": 3,
   "metadata": {},
   "outputs": [],
   "source": [
    "\n",
    "# Define the SentimentAnalyzer class\n",
    "class SentimentAnalyzer:\n",
    "    def predict_sentiment(self, df, text_column):\n",
    "        # Applying sentiment analysis to the specified text column\n",
    "        # If the sentiment polarity is greater than 0, classify as 'positive'\n",
    "        # If the sentiment polarity is less than 0, classify as 'negative'\n",
    "        # If the sentiment polarity is 0, classify as 'neutral'\n",
    "        df['predicted_sentiment'] = df[text_column].apply(\n",
    "            lambda x: 'positive' if TextBlob(str(x)).sentiment.polarity > 0 \n",
    "            else ('negative' if TextBlob(str(x)).sentiment.polarity < 0 else 'neutral')\n",
    "        )\n",
    "        # Returning the DataFrame with the new 'predicted_sentiment' column\n",
    "        return df\n"
   ]
  },
  {
   "cell_type": "code",
   "execution_count": 4,
   "metadata": {},
   "outputs": [
    {
     "name": "stderr",
     "output_type": "stream",
     "text": [
      "C:\\Users\\arwa1\\AppData\\Local\\Temp\\ipykernel_17328\\3044028895.py:5: DtypeWarning: Columns (1,10) have mixed types. Specify dtype option on import or set low_memory=False.\n",
      "  df = pd.read_csv('data.csv')\n"
     ]
    }
   ],
   "source": [
    "# Creating an instance of the SentimentAnalyzer class\n",
    "sentiment_analyzer = SentimentAnalyzer()\n",
    "\n",
    "# Reading the CSV file into a DataFrame\n",
    "df = pd.read_csv('data.csv')\n",
    "\n",
    "# Specifying the name of the text column to be analyzed\n",
    "text_column = 'reviews.text'\n",
    "\n",
    "# Applying the sentiment analysis to the DataFrame\n",
    "df_with_sentiment = sentiment_analyzer.predict_sentiment(df, text_column)\n"
   ]
  },
  {
   "cell_type": "code",
   "execution_count": 5,
   "metadata": {},
   "outputs": [
    {
     "name": "stdout",
     "output_type": "stream",
     "text": [
      "                         id  \\\n",
      "0      AVqkIhwDv8e3D1O-lebb   \n",
      "1      AVqkIhwDv8e3D1O-lebb   \n",
      "2      AVqkIhwDv8e3D1O-lebb   \n",
      "3      AVqkIhwDv8e3D1O-lebb   \n",
      "4      AVqkIhwDv8e3D1O-lebb   \n",
      "...                     ...   \n",
      "34655  AVpfiBlyLJeJML43-4Tp   \n",
      "34656  AVpfiBlyLJeJML43-4Tp   \n",
      "34657  AVpfiBlyLJeJML43-4Tp   \n",
      "34658  AVpfiBlyLJeJML43-4Tp   \n",
      "34659  AVpfiBlyLJeJML43-4Tp   \n",
      "\n",
      "                                                    name  \\\n",
      "0      All-New Fire HD 8 Tablet, 8 HD Display, Wi-Fi,...   \n",
      "1      All-New Fire HD 8 Tablet, 8 HD Display, Wi-Fi,...   \n",
      "2      All-New Fire HD 8 Tablet, 8 HD Display, Wi-Fi,...   \n",
      "3      All-New Fire HD 8 Tablet, 8 HD Display, Wi-Fi,...   \n",
      "4      All-New Fire HD 8 Tablet, 8 HD Display, Wi-Fi,...   \n",
      "...                                                  ...   \n",
      "34655                                                NaN   \n",
      "34656                                                NaN   \n",
      "34657                                                NaN   \n",
      "34658                                                NaN   \n",
      "34659                                                NaN   \n",
      "\n",
      "                                           reviews.title  \\\n",
      "0                                                 Kindle   \n",
      "1                                              very fast   \n",
      "2                Beginner tablet for our 9 year old son.   \n",
      "3                                                Good!!!   \n",
      "4                              Fantastic Tablet for kids   \n",
      "...                                                  ...   \n",
      "34655  Not appreciably faster than any other 1.8A cha...   \n",
      "34656                                 Should be included   \n",
      "34657                              Disappointing Charger   \n",
      "34658                                Not worth the money   \n",
      "34659                              as with everyone else   \n",
      "\n",
      "                                            reviews.text predicted_sentiment  \n",
      "0      This product so far has not disappointed. My c...            positive  \n",
      "1      great for beginner or experienced person. Boug...            positive  \n",
      "2      Inexpensive tablet for him to use and learn on...            positive  \n",
      "3      I've had my Fire HD 8 two weeks now and I love...            positive  \n",
      "4      I bought this for my grand daughter when she c...            positive  \n",
      "...                                                  ...                 ...  \n",
      "34655  This is not appreciably faster than any other ...            positive  \n",
      "34656  Amazon should include this charger with the Ki...             neutral  \n",
      "34657  Love my Kindle Fire but I am really disappoint...            positive  \n",
      "34658  I was surprised to find it did not come with a...            negative  \n",
      "34659  to spite the fact that i have nothing but good...            positive  \n",
      "\n",
      "[34660 rows x 5 columns]\n"
     ]
    }
   ],
   "source": [
    "\n",
    "# Displaying the DataFrame with the predicted sentiment\n",
    "print(df_with_sentiment[['id', 'name', 'reviews.title', 'reviews.text', 'predicted_sentiment']])\n"
   ]
  },
  {
   "cell_type": "code",
   "execution_count": 6,
   "metadata": {},
   "outputs": [
    {
     "name": "stdout",
     "output_type": "stream",
     "text": [
      "Negative Reviews:\n",
      "                      id                                               name  \\\n",
      "10  AVqkIhwDv8e3D1O-lebb  All-New Fire HD 8 Tablet, 8 HD Display, Wi-Fi,...   \n",
      "17  AVqkIhwDv8e3D1O-lebb  All-New Fire HD 8 Tablet, 8 HD Display, Wi-Fi,...   \n",
      "54  AVqkIhwDv8e3D1O-lebb  All-New Fire HD 8 Tablet, 8 HD Display, Wi-Fi,...   \n",
      "75  AVqkIhwDv8e3D1O-lebb  All-New Fire HD 8 Tablet, 8 HD Display, Wi-Fi,...   \n",
      "94  AVqkIhwDv8e3D1O-lebb  All-New Fire HD 8 Tablet, 8 HD Display, Wi-Fi,...   \n",
      "\n",
      "                reviews.title  \\\n",
      "10  nice tablet for the price   \n",
      "17  Nice Tablet for the Price   \n",
      "54          My wife loves it.   \n",
      "75         A gift for Grandma   \n",
      "94            Good, not great   \n",
      "\n",
      "                                         reviews.text predicted_sentiment  \n",
      "10  Not easy for elderly users cease of ads that p...            negative  \n",
      "17  I really like this tablet. I would have given ...            negative  \n",
      "54  Got this for my wife and she loves it. She had...            negative  \n",
      "75  A family member has vision problems. They had ...            negative  \n",
      "94  Good reader which is why I bought it. Ads are ...            negative  \n"
     ]
    }
   ],
   "source": [
    "\n",
    "# Filtering and displaying negative reviews\n",
    "negative_reviews = df_with_sentiment[df_with_sentiment['predicted_sentiment'] == 'negative'][['id', 'name', 'reviews.title', 'reviews.text', 'predicted_sentiment']].head()\n",
    "print(\"Negative Reviews:\")\n",
    "print(negative_reviews)\n"
   ]
  },
  {
   "cell_type": "code",
   "execution_count": 7,
   "metadata": {},
   "outputs": [
    {
     "name": "stdout",
     "output_type": "stream",
     "text": [
      "Positive Reviews:\n",
      "                     id                                               name  \\\n",
      "0  AVqkIhwDv8e3D1O-lebb  All-New Fire HD 8 Tablet, 8 HD Display, Wi-Fi,...   \n",
      "1  AVqkIhwDv8e3D1O-lebb  All-New Fire HD 8 Tablet, 8 HD Display, Wi-Fi,...   \n",
      "2  AVqkIhwDv8e3D1O-lebb  All-New Fire HD 8 Tablet, 8 HD Display, Wi-Fi,...   \n",
      "3  AVqkIhwDv8e3D1O-lebb  All-New Fire HD 8 Tablet, 8 HD Display, Wi-Fi,...   \n",
      "4  AVqkIhwDv8e3D1O-lebb  All-New Fire HD 8 Tablet, 8 HD Display, Wi-Fi,...   \n",
      "\n",
      "                             reviews.title  \\\n",
      "0                                   Kindle   \n",
      "1                                very fast   \n",
      "2  Beginner tablet for our 9 year old son.   \n",
      "3                                  Good!!!   \n",
      "4                Fantastic Tablet for kids   \n",
      "\n",
      "                                        reviews.text predicted_sentiment  \n",
      "0  This product so far has not disappointed. My c...            positive  \n",
      "1  great for beginner or experienced person. Boug...            positive  \n",
      "2  Inexpensive tablet for him to use and learn on...            positive  \n",
      "3  I've had my Fire HD 8 two weeks now and I love...            positive  \n",
      "4  I bought this for my grand daughter when she c...            positive  \n"
     ]
    }
   ],
   "source": [
    "\n",
    "# Filtering and displaying positive reviews\n",
    "positive_reviews = df_with_sentiment[df_with_sentiment['predicted_sentiment'] == 'positive'][['id', 'name', 'reviews.title', 'reviews.text', 'predicted_sentiment']].head()\n",
    "print(\"Positive Reviews:\")\n",
    "print(positive_reviews)\n"
   ]
  },
  {
   "cell_type": "code",
   "execution_count": 8,
   "metadata": {},
   "outputs": [
    {
     "name": "stdout",
     "output_type": "stream",
     "text": [
      "Neutral Reviews:\n",
      "                      id                                               name  \\\n",
      "13  AVqkIhwDv8e3D1O-lebb  All-New Fire HD 8 Tablet, 8 HD Display, Wi-Fi,...   \n",
      "30  AVqkIhwDv8e3D1O-lebb  All-New Fire HD 8 Tablet, 8 HD Display, Wi-Fi,...   \n",
      "42  AVqkIhwDv8e3D1O-lebb  All-New Fire HD 8 Tablet, 8 HD Display, Wi-Fi,...   \n",
      "58  AVqkIhwDv8e3D1O-lebb  All-New Fire HD 8 Tablet, 8 HD Display, Wi-Fi,...   \n",
      "61  AVqkIhwDv8e3D1O-lebb  All-New Fire HD 8 Tablet, 8 HD Display, Wi-Fi,...   \n",
      "\n",
      "                                   reviews.title  \\\n",
      "13                                     Excellect   \n",
      "30  looking for a great gift that is affordable.   \n",
      "42                           Good starter tablet   \n",
      "58       Present for my daughter & she loves it!   \n",
      "61              Great tablet for what it's worth   \n",
      "\n",
      "                                         reviews.text predicted_sentiment  \n",
      "13  Simply does everything I need. Thank youAnd si...             neutral  \n",
      "30  If your looking for a affordable gift this is ...             neutral  \n",
      "42  Does all basic functions of a tablet. Hardcore...             neutral  \n",
      "58  My daughter likes this tablet to play her onli...             neutral  \n",
      "61  I bought this wanting for books comics and mov...             neutral  \n"
     ]
    }
   ],
   "source": [
    "\n",
    "# Filtering and displaying neutral reviews\n",
    "neutral_reviews = df_with_sentiment[df_with_sentiment['predicted_sentiment'] == 'neutral'][['id', 'name', 'reviews.title', 'reviews.text', 'predicted_sentiment']].head()\n",
    "print(\"Neutral Reviews:\")\n",
    "print(neutral_reviews)\n"
   ]
  }
 ],
 "metadata": {
  "kernelspec": {
   "display_name": "base",
   "language": "python",
   "name": "python3"
  },
  "language_info": {
   "codemirror_mode": {
    "name": "ipython",
    "version": 3
   },
   "file_extension": ".py",
   "mimetype": "text/x-python",
   "name": "python",
   "nbconvert_exporter": "python",
   "pygments_lexer": "ipython3",
   "version": "3.12.4"
  }
 },
 "nbformat": 4,
 "nbformat_minor": 2
}
